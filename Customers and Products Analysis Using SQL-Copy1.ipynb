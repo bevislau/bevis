{
 "cells": [
  {
   "cell_type": "markdown",
   "id": "d9bcaded",
   "metadata": {},
   "source": [
    "# Customers and Products Analysis Using SQL by Bevis Lau"
   ]
  },
  {
   "cell_type": "markdown",
   "id": "98c8b81e",
   "metadata": {},
   "source": [
    "This is a Guided Project from Dataquest<br>\n",
    "The purpose is to study the Scale Model Cars Database with 3 main questions to answer"
   ]
  },
  {
   "cell_type": "markdown",
   "id": "6fdeaceb",
   "metadata": {},
   "source": [
    "Question 1: Which products should we order more of or less of? <br>\n",
    "Question 2: How should we tailor marketing and communication strategies to customer behaviors? <br>\n",
    "Question 3: How much can we spend on acquiring new customers?"
   ]
  },
  {
   "cell_type": "code",
   "execution_count": 2,
   "id": "5acf9faa",
   "metadata": {},
   "outputs": [],
   "source": [
    "import sqlite3 as sql\n",
    "import pandas as pd"
   ]
  },
  {
   "cell_type": "code",
   "execution_count": 3,
   "id": "283415e0",
   "metadata": {
    "scrolled": true
   },
   "outputs": [
    {
     "name": "stdout",
     "output_type": "stream",
     "text": [
      "Requirement already satisfied: ipython-sql in /Users/bevislau/anaconda3/lib/python3.10/site-packages (0.5.0)\n",
      "Requirement already satisfied: sqlparse in /Users/bevislau/anaconda3/lib/python3.10/site-packages (from ipython-sql) (0.4.4)\n",
      "Requirement already satisfied: ipython-genutils in /Users/bevislau/anaconda3/lib/python3.10/site-packages (from ipython-sql) (0.2.0)\n",
      "Requirement already satisfied: ipython in /Users/bevislau/anaconda3/lib/python3.10/site-packages (from ipython-sql) (8.10.0)\n",
      "Requirement already satisfied: sqlalchemy>=2.0 in /Users/bevislau/anaconda3/lib/python3.10/site-packages (from ipython-sql) (2.0.20)\n",
      "Requirement already satisfied: six in /Users/bevislau/anaconda3/lib/python3.10/site-packages (from ipython-sql) (1.16.0)\n",
      "Requirement already satisfied: prettytable in /Users/bevislau/anaconda3/lib/python3.10/site-packages (from ipython-sql) (3.8.0)\n",
      "Requirement already satisfied: typing-extensions>=4.2.0 in /Users/bevislau/anaconda3/lib/python3.10/site-packages (from sqlalchemy>=2.0->ipython-sql) (4.4.0)\n",
      "Requirement already satisfied: greenlet!=0.4.17 in /Users/bevislau/anaconda3/lib/python3.10/site-packages (from sqlalchemy>=2.0->ipython-sql) (2.0.1)\n",
      "Requirement already satisfied: prompt-toolkit<3.1.0,>=3.0.30 in /Users/bevislau/anaconda3/lib/python3.10/site-packages (from ipython->ipython-sql) (3.0.36)\n",
      "Requirement already satisfied: pexpect>4.3 in /Users/bevislau/anaconda3/lib/python3.10/site-packages (from ipython->ipython-sql) (4.8.0)\n",
      "Requirement already satisfied: decorator in /Users/bevislau/anaconda3/lib/python3.10/site-packages (from ipython->ipython-sql) (5.1.1)\n",
      "Requirement already satisfied: traitlets>=5 in /Users/bevislau/anaconda3/lib/python3.10/site-packages (from ipython->ipython-sql) (5.7.1)\n",
      "Requirement already satisfied: pickleshare in /Users/bevislau/anaconda3/lib/python3.10/site-packages (from ipython->ipython-sql) (0.7.5)\n",
      "Requirement already satisfied: matplotlib-inline in /Users/bevislau/anaconda3/lib/python3.10/site-packages (from ipython->ipython-sql) (0.1.6)\n",
      "Requirement already satisfied: jedi>=0.16 in /Users/bevislau/anaconda3/lib/python3.10/site-packages (from ipython->ipython-sql) (0.18.1)\n",
      "Requirement already satisfied: pygments>=2.4.0 in /Users/bevislau/anaconda3/lib/python3.10/site-packages (from ipython->ipython-sql) (2.11.2)\n",
      "Requirement already satisfied: stack-data in /Users/bevislau/anaconda3/lib/python3.10/site-packages (from ipython->ipython-sql) (0.2.0)\n",
      "Requirement already satisfied: appnope in /Users/bevislau/anaconda3/lib/python3.10/site-packages (from ipython->ipython-sql) (0.1.2)\n",
      "Requirement already satisfied: backcall in /Users/bevislau/anaconda3/lib/python3.10/site-packages (from ipython->ipython-sql) (0.2.0)\n",
      "Requirement already satisfied: wcwidth in /Users/bevislau/anaconda3/lib/python3.10/site-packages (from prettytable->ipython-sql) (0.2.5)\n",
      "Requirement already satisfied: parso<0.9.0,>=0.8.0 in /Users/bevislau/anaconda3/lib/python3.10/site-packages (from jedi>=0.16->ipython->ipython-sql) (0.8.3)\n",
      "Requirement already satisfied: ptyprocess>=0.5 in /Users/bevislau/anaconda3/lib/python3.10/site-packages (from pexpect>4.3->ipython->ipython-sql) (0.7.0)\n",
      "Requirement already satisfied: pure-eval in /Users/bevislau/anaconda3/lib/python3.10/site-packages (from stack-data->ipython->ipython-sql) (0.2.2)\n",
      "Requirement already satisfied: asttokens in /Users/bevislau/anaconda3/lib/python3.10/site-packages (from stack-data->ipython->ipython-sql) (2.0.5)\n",
      "Requirement already satisfied: executing in /Users/bevislau/anaconda3/lib/python3.10/site-packages (from stack-data->ipython->ipython-sql) (0.8.3)\n"
     ]
    }
   ],
   "source": [
    "!pip install ipython-sql"
   ]
  },
  {
   "cell_type": "code",
   "execution_count": 4,
   "id": "ce5819c0",
   "metadata": {},
   "outputs": [],
   "source": [
    "%load_ext sql"
   ]
  },
  {
   "cell_type": "code",
   "execution_count": 5,
   "id": "7c2dd558",
   "metadata": {},
   "outputs": [],
   "source": [
    "%sql sqlite:///stores.db"
   ]
  },
  {
   "cell_type": "code",
   "execution_count": 6,
   "id": "ba8e41d1",
   "metadata": {},
   "outputs": [
    {
     "name": "stdout",
     "output_type": "stream",
     "text": [
      " * sqlite:///stores.db\n",
      "Done.\n"
     ]
    },
    {
     "data": {
      "text/html": [
       "<table>\n",
       "    <thead>\n",
       "        <tr>\n",
       "            <th>productCode</th>\n",
       "            <th>productName</th>\n",
       "            <th>productLine</th>\n",
       "            <th>productScale</th>\n",
       "            <th>productVendor</th>\n",
       "            <th>productDescription</th>\n",
       "            <th>quantityInStock</th>\n",
       "            <th>buyPrice</th>\n",
       "            <th>MSRP</th>\n",
       "        </tr>\n",
       "    </thead>\n",
       "    <tbody>\n",
       "        <tr>\n",
       "            <td>S10_1678</td>\n",
       "            <td>1969 Harley Davidson Ultimate Chopper</td>\n",
       "            <td>Motorcycles</td>\n",
       "            <td>1:10</td>\n",
       "            <td>Min Lin Diecast</td>\n",
       "            <td>This replica features working kickstand, front suspension, gear-shift lever, footbrake lever, drive chain, wheels and steering. All parts are particularly delicate due to their precise scale and require special care and attention.</td>\n",
       "            <td>7933</td>\n",
       "            <td>48.81</td>\n",
       "            <td>95.7</td>\n",
       "        </tr>\n",
       "        <tr>\n",
       "            <td>S10_1949</td>\n",
       "            <td>1952 Alpine Renault 1300</td>\n",
       "            <td>Classic Cars</td>\n",
       "            <td>1:10</td>\n",
       "            <td>Classic Metal Creations</td>\n",
       "            <td>Turnable front wheels; steering function; detailed interior; detailed engine; opening hood; opening trunk; opening doors; and detailed chassis.</td>\n",
       "            <td>7305</td>\n",
       "            <td>98.58</td>\n",
       "            <td>214.3</td>\n",
       "        </tr>\n",
       "        <tr>\n",
       "            <td>S10_2016</td>\n",
       "            <td>1996 Moto Guzzi 1100i</td>\n",
       "            <td>Motorcycles</td>\n",
       "            <td>1:10</td>\n",
       "            <td>Highway 66 Mini Classics</td>\n",
       "            <td>Official Moto Guzzi logos and insignias, saddle bags located on side of motorcycle, detailed engine, working steering, working suspension, two leather seats, luggage rack, dual exhaust pipes, small saddle bag located on handle bars, two-tone paint with chrome accents, superior die-cast detail , rotating wheels , working kick stand, diecast metal with plastic parts and baked enamel finish.</td>\n",
       "            <td>6625</td>\n",
       "            <td>68.99</td>\n",
       "            <td>118.94</td>\n",
       "        </tr>\n",
       "        <tr>\n",
       "            <td>S10_4698</td>\n",
       "            <td>2003 Harley-Davidson Eagle Drag Bike</td>\n",
       "            <td>Motorcycles</td>\n",
       "            <td>1:10</td>\n",
       "            <td>Red Start Diecast</td>\n",
       "            <td>Model features, official Harley Davidson logos and insignias, detachable rear wheelie bar, heavy diecast metal with resin parts, authentic multi-color tampo-printed graphics, separate engine drive belts, free-turning front fork, rotating tires and rear racing slick, certificate of authenticity, detailed engine, display stand\\r\\n, precision diecast replica, baked enamel finish, 1:10 scale model, removable fender, seat and tank cover piece for displaying the superior detail of the v-twin engine</td>\n",
       "            <td>5582</td>\n",
       "            <td>91.02</td>\n",
       "            <td>193.66</td>\n",
       "        </tr>\n",
       "        <tr>\n",
       "            <td>S10_4757</td>\n",
       "            <td>1972 Alfa Romeo GTA</td>\n",
       "            <td>Classic Cars</td>\n",
       "            <td>1:10</td>\n",
       "            <td>Motor City Art Classics</td>\n",
       "            <td>Features include: Turnable front wheels; steering function; detailed interior; detailed engine; opening hood; opening trunk; opening doors; and detailed chassis.</td>\n",
       "            <td>3252</td>\n",
       "            <td>85.68</td>\n",
       "            <td>136</td>\n",
       "        </tr>\n",
       "    </tbody>\n",
       "</table>"
      ],
      "text/plain": [
       "[('S10_1678', '1969 Harley Davidson Ultimate Chopper', 'Motorcycles', '1:10', 'Min Lin Diecast', 'This replica features working kickstand, front suspension, gear-shift lever, footbrake lever, drive chain, wheels and steering. All parts are particularly delicate due to their precise scale and require special care and attention.', 7933, 48.81, 95.7),\n",
       " ('S10_1949', '1952 Alpine Renault 1300', 'Classic Cars', '1:10', 'Classic Metal Creations', 'Turnable front wheels; steering function; detailed interior; detailed engine; opening hood; opening trunk; opening doors; and detailed chassis.', 7305, 98.58, 214.3),\n",
       " ('S10_2016', '1996 Moto Guzzi 1100i', 'Motorcycles', '1:10', 'Highway 66 Mini Classics', 'Official Moto Guzzi logos and insignias, saddle bags located on side of motorcycle, detailed engine, working steering, working suspension, two leathe ... (93 characters truncated) ... paint with chrome accents, superior die-cast detail , rotating wheels , working kick stand, diecast metal with plastic parts and baked enamel finish.', 6625, 68.99, 118.94),\n",
       " ('S10_4698', '2003 Harley-Davidson Eagle Drag Bike', 'Motorcycles', '1:10', 'Red Start Diecast', 'Model features, official Harley Davidson logos and insignias, detachable rear wheelie bar, heavy diecast metal with resin parts, authentic multi-colo ... (201 characters truncated) ... t replica, baked enamel finish, 1:10 scale model, removable fender, seat and tank cover piece for displaying the superior detail of the v-twin engine', 5582, 91.02, 193.66),\n",
       " ('S10_4757', '1972 Alfa Romeo GTA', 'Classic Cars', '1:10', 'Motor City Art Classics', 'Features include: Turnable front wheels; steering function; detailed interior; detailed engine; opening hood; opening trunk; opening doors; and detailed chassis.', 3252, 85.68, 136)]"
      ]
     },
     "execution_count": 6,
     "metadata": {},
     "output_type": "execute_result"
    }
   ],
   "source": [
    "%%sql \n",
    "SELECT *\n",
    "FROM products\n",
    "LIMIT 5;"
   ]
  },
  {
   "cell_type": "markdown",
   "id": "479d6b03",
   "metadata": {},
   "source": [
    "To understand database structure"
   ]
  },
  {
   "cell_type": "code",
   "execution_count": 7,
   "id": "52cd65b6",
   "metadata": {},
   "outputs": [
    {
     "name": "stdout",
     "output_type": "stream",
     "text": [
      " * sqlite:///stores.db\n",
      "Done.\n"
     ]
    },
    {
     "data": {
      "text/html": [
       "<table>\n",
       "    <thead>\n",
       "        <tr>\n",
       "            <th>table_name</th>\n",
       "            <th>number_of_attributes</th>\n",
       "            <th>number_of_rows</th>\n",
       "        </tr>\n",
       "    </thead>\n",
       "    <tbody>\n",
       "        <tr>\n",
       "            <td>customers</td>\n",
       "            <td>13</td>\n",
       "            <td>122</td>\n",
       "        </tr>\n",
       "        <tr>\n",
       "            <td>products</td>\n",
       "            <td>9</td>\n",
       "            <td>110</td>\n",
       "        </tr>\n",
       "        <tr>\n",
       "            <td>productlines</td>\n",
       "            <td>4</td>\n",
       "            <td>7</td>\n",
       "        </tr>\n",
       "        <tr>\n",
       "            <td>orders</td>\n",
       "            <td>7</td>\n",
       "            <td>326</td>\n",
       "        </tr>\n",
       "        <tr>\n",
       "            <td>orderdetails</td>\n",
       "            <td>5</td>\n",
       "            <td>2996</td>\n",
       "        </tr>\n",
       "        <tr>\n",
       "            <td>payments</td>\n",
       "            <td>4</td>\n",
       "            <td>273</td>\n",
       "        </tr>\n",
       "        <tr>\n",
       "            <td>employees</td>\n",
       "            <td>8</td>\n",
       "            <td>23</td>\n",
       "        </tr>\n",
       "        <tr>\n",
       "            <td>offices</td>\n",
       "            <td>9</td>\n",
       "            <td>7</td>\n",
       "        </tr>\n",
       "    </tbody>\n",
       "</table>"
      ],
      "text/plain": [
       "[('customers', 13, 122),\n",
       " ('products', 9, 110),\n",
       " ('productlines', 4, 7),\n",
       " ('orders', 7, 326),\n",
       " ('orderdetails', 5, 2996),\n",
       " ('payments', 4, 273),\n",
       " ('employees', 8, 23),\n",
       " ('offices', 9, 7)]"
      ]
     },
     "execution_count": 7,
     "metadata": {},
     "output_type": "execute_result"
    }
   ],
   "source": [
    "%%sql\n",
    "SELECT 'customers' table_name, count(*) number_of_attributes,(SELECT count(*)FROM customers ) number_of_rows FROM pragma_table_info('customers')\n",
    "UNION ALL\n",
    "SELECT 'products' table_name, count(*) number_of_attributes,(SELECT count(*)FROM products ) number_of_rows FROM pragma_table_info('products')\n",
    "UNION ALL\n",
    "SELECT 'productlines' table_name, count(*) number_of_attributes,(SELECT count(*)FROM productlines ) number_of_rows FROM pragma_table_info('productlines')\n",
    "UNION ALL\n",
    "SELECT 'orders' table_name, count(*) number_of_attributes,(SELECT count(*)FROM orders ) number_of_rows FROM pragma_table_info('orders')\n",
    "UNION ALL\n",
    "SELECT 'orderdetails' table_name, count(*) number_of_attributes,(SELECT count(*)FROM orderdetails ) number_of_rows FROM pragma_table_info('orderdetails')\n",
    "UNION ALL\n",
    "SELECT 'payments' table_name, count(*) number_of_attributes,(SELECT count(*)FROM payments ) number_of_rows FROM pragma_table_info('payments')\n",
    "UNION ALL\n",
    "SELECT 'employees' table_name, count(*) number_of_attributes,(SELECT count(*)FROM employees ) number_of_rows FROM pragma_table_info('employees')\n",
    "UNION ALL\n",
    "SELECT 'offices' table_name, count(*) number_of_attributes,(SELECT count(*)FROM offices ) number_of_rows FROM pragma_table_info('offices');\n",
    "\n"
   ]
  },
  {
   "attachments": {
    "image.png": {
     "image/png": "[encoded data removed]"
    }
   },
   "cell_type": "markdown",
   "id": "be515896",
   "metadata": {},
   "source": [
    "![image.png](attachment:image.png)"
   ]
  },
  {
   "cell_type": "markdown",
   "id": "9ec8eabb",
   "metadata": {},
   "source": [
    "## Question 1: Which Products Should We Order More of or Less of?"
   ]
  },
  {
   "cell_type": "markdown",
   "id": "fdfa260c",
   "metadata": {},
   "source": [
    "Product low in stock"
   ]
  },
  {
   "cell_type": "code",
   "execution_count": 8,
   "id": "d2cff795",
   "metadata": {},
   "outputs": [
    {
     "name": "stdout",
     "output_type": "stream",
     "text": [
      " * sqlite:///stores.db\n",
      "Done.\n"
     ]
    },
    {
     "data": {
      "text/html": [
       "<table>\n",
       "    <thead>\n",
       "        <tr>\n",
       "            <th>productCode</th>\n",
       "            <th>productName</th>\n",
       "            <th>lowstock</th>\n",
       "        </tr>\n",
       "    </thead>\n",
       "    <tbody>\n",
       "        <tr>\n",
       "            <td>S24_2000</td>\n",
       "            <td>1960 BSA Gold Star DBD34</td>\n",
       "            <td>67.0</td>\n",
       "        </tr>\n",
       "        <tr>\n",
       "            <td>S12_1099</td>\n",
       "            <td>1968 Ford Mustang</td>\n",
       "            <td>13.0</td>\n",
       "        </tr>\n",
       "        <tr>\n",
       "            <td>S32_4289</td>\n",
       "            <td>1928 Ford Phaeton Deluxe</td>\n",
       "            <td>7.0</td>\n",
       "        </tr>\n",
       "        <tr>\n",
       "            <td>S32_1374</td>\n",
       "            <td>1997 BMW F650 ST</td>\n",
       "            <td>5.0</td>\n",
       "        </tr>\n",
       "        <tr>\n",
       "            <td>S72_3212</td>\n",
       "            <td>Pont Yacht</td>\n",
       "            <td>2.0</td>\n",
       "        </tr>\n",
       "        <tr>\n",
       "            <td>S700_3167</td>\n",
       "            <td>F/A 18 Hornet 1/72</td>\n",
       "            <td>1.0</td>\n",
       "        </tr>\n",
       "        <tr>\n",
       "            <td>S700_1938</td>\n",
       "            <td>The Mayflower</td>\n",
       "            <td>1.0</td>\n",
       "        </tr>\n",
       "        <tr>\n",
       "            <td>S50_4713</td>\n",
       "            <td>2002 Yamaha YZR M1</td>\n",
       "            <td>1.0</td>\n",
       "        </tr>\n",
       "        <tr>\n",
       "            <td>S32_3522</td>\n",
       "            <td>1996 Peterbilt 379 Stake Bed with Outrigger</td>\n",
       "            <td>1.0</td>\n",
       "        </tr>\n",
       "        <tr>\n",
       "            <td>S18_2795</td>\n",
       "            <td>1928 Mercedes-Benz SSK</td>\n",
       "            <td>1.0</td>\n",
       "        </tr>\n",
       "    </tbody>\n",
       "</table>"
      ],
      "text/plain": [
       "[('S24_2000', '1960 BSA Gold Star DBD34', 67.0),\n",
       " ('S12_1099', '1968 Ford Mustang', 13.0),\n",
       " ('S32_4289', '1928 Ford Phaeton Deluxe', 7.0),\n",
       " ('S32_1374', '1997 BMW F650 ST', 5.0),\n",
       " ('S72_3212', 'Pont Yacht', 2.0),\n",
       " ('S700_3167', 'F/A 18 Hornet 1/72', 1.0),\n",
       " ('S700_1938', 'The Mayflower', 1.0),\n",
       " ('S50_4713', '2002 Yamaha YZR M1', 1.0),\n",
       " ('S32_3522', '1996 Peterbilt 379 Stake Bed with Outrigger', 1.0),\n",
       " ('S18_2795', '1928 Mercedes-Benz SSK', 1.0)]"
      ]
     },
     "execution_count": 8,
     "metadata": {},
     "output_type": "execute_result"
    }
   ],
   "source": [
    "%%sql\n",
    "SELECT p.productCode,p.productName,ROUND(SUM(o.quantityOrdered)/p.quantityInStock,2) AS lowstock\n",
    "FROM products as p\n",
    "JOIN orderdetails as o\n",
    "ON p.productCode = o.productCode\n",
    "GROUP BY  p.productCode\n",
    "ORDER BY lowstock DESC \n",
    "LIMIT 10 ;\n"
   ]
  },
  {
   "cell_type": "markdown",
   "id": "6fb7a28d",
   "metadata": {},
   "source": [
    "Product sales performance are above average"
   ]
  },
  {
   "cell_type": "code",
   "execution_count": 9,
   "id": "6e5f0119",
   "metadata": {},
   "outputs": [
    {
     "name": "stdout",
     "output_type": "stream",
     "text": [
      " * sqlite:///stores.db\n",
      "Done.\n"
     ]
    },
    {
     "data": {
      "text/html": [
       "<table>\n",
       "    <thead>\n",
       "        <tr>\n",
       "            <th>productCode</th>\n",
       "            <th>total_revenue</th>\n",
       "        </tr>\n",
       "    </thead>\n",
       "    <tbody>\n",
       "        <tr>\n",
       "            <td>S18_3232</td>\n",
       "            <td>276839.98</td>\n",
       "        </tr>\n",
       "        <tr>\n",
       "            <td>S12_1108</td>\n",
       "            <td>190755.86</td>\n",
       "        </tr>\n",
       "        <tr>\n",
       "            <td>S10_1949</td>\n",
       "            <td>190017.96</td>\n",
       "        </tr>\n",
       "        <tr>\n",
       "            <td>S10_4698</td>\n",
       "            <td>170686.0</td>\n",
       "        </tr>\n",
       "        <tr>\n",
       "            <td>S12_1099</td>\n",
       "            <td>161531.48</td>\n",
       "        </tr>\n",
       "        <tr>\n",
       "            <td>S12_3891</td>\n",
       "            <td>152543.02</td>\n",
       "        </tr>\n",
       "        <tr>\n",
       "            <td>S18_1662</td>\n",
       "            <td>144959.91</td>\n",
       "        </tr>\n",
       "        <tr>\n",
       "            <td>S18_2238</td>\n",
       "            <td>142530.63</td>\n",
       "        </tr>\n",
       "        <tr>\n",
       "            <td>S18_1749</td>\n",
       "            <td>140535.6</td>\n",
       "        </tr>\n",
       "        <tr>\n",
       "            <td>S12_2823</td>\n",
       "            <td>135767.03</td>\n",
       "        </tr>\n",
       "    </tbody>\n",
       "</table>"
      ],
      "text/plain": [
       "[('S18_3232', 276839.98),\n",
       " ('S12_1108', 190755.86),\n",
       " ('S10_1949', 190017.96),\n",
       " ('S10_4698', 170686.0),\n",
       " ('S12_1099', 161531.48),\n",
       " ('S12_3891', 152543.02),\n",
       " ('S18_1662', 144959.91),\n",
       " ('S18_2238', 142530.63),\n",
       " ('S18_1749', 140535.6),\n",
       " ('S12_2823', 135767.03)]"
      ]
     },
     "execution_count": 9,
     "metadata": {},
     "output_type": "execute_result"
    }
   ],
   "source": [
    "%%sql\n",
    "SELECT p.productCode,ROUND(SUM(o.quantityOrdered*o.priceEach),2) AS total_revenue\n",
    "FROM products as p\n",
    "JOIN orderdetails as o\n",
    "ON p.productCode = o.productCode\n",
    "GROUP BY p.productCode\n",
    "ORDER BY total_revenue DESC\n",
    "LIMIT 10\n"
   ]
  },
  {
   "cell_type": "markdown",
   "id": "247f3e3e",
   "metadata": {},
   "source": [
    "Combine the two with CTE expressions "
   ]
  },
  {
   "cell_type": "code",
   "execution_count": 10,
   "id": "6e8cb223",
   "metadata": {},
   "outputs": [
    {
     "name": "stdout",
     "output_type": "stream",
     "text": [
      " * sqlite:///stores.db\n",
      "Done.\n"
     ]
    },
    {
     "data": {
      "text/html": [
       "<table>\n",
       "    <thead>\n",
       "        <tr>\n",
       "            <th>productCode</th>\n",
       "            <th>productName</th>\n",
       "            <th>total_revenue</th>\n",
       "            <th>lowstock</th>\n",
       "        </tr>\n",
       "    </thead>\n",
       "    <tbody>\n",
       "        <tr>\n",
       "            <td>S24_2000</td>\n",
       "            <td>1960 BSA Gold Star DBD34</td>\n",
       "            <td>67193.49</td>\n",
       "            <td>67.0</td>\n",
       "        </tr>\n",
       "        <tr>\n",
       "            <td>S12_1099</td>\n",
       "            <td>1968 Ford Mustang</td>\n",
       "            <td>161531.48</td>\n",
       "            <td>13.0</td>\n",
       "        </tr>\n",
       "        <tr>\n",
       "            <td>S32_4289</td>\n",
       "            <td>1928 Ford Phaeton Deluxe</td>\n",
       "            <td>60493.33</td>\n",
       "            <td>7.0</td>\n",
       "        </tr>\n",
       "        <tr>\n",
       "            <td>S32_1374</td>\n",
       "            <td>1997 BMW F650 ST</td>\n",
       "            <td>89364.89</td>\n",
       "            <td>5.0</td>\n",
       "        </tr>\n",
       "        <tr>\n",
       "            <td>S72_3212</td>\n",
       "            <td>Pont Yacht</td>\n",
       "            <td>47550.4</td>\n",
       "            <td>2.0</td>\n",
       "        </tr>\n",
       "        <tr>\n",
       "            <td>S18_2795</td>\n",
       "            <td>1928 Mercedes-Benz SSK</td>\n",
       "            <td>132275.98</td>\n",
       "            <td>1.0</td>\n",
       "        </tr>\n",
       "        <tr>\n",
       "            <td>S700_3167</td>\n",
       "            <td>F/A 18 Hornet 1/72</td>\n",
       "            <td>76618.4</td>\n",
       "            <td>1.0</td>\n",
       "        </tr>\n",
       "        <tr>\n",
       "            <td>S50_4713</td>\n",
       "            <td>2002 Yamaha YZR M1</td>\n",
       "            <td>73670.64</td>\n",
       "            <td>1.0</td>\n",
       "        </tr>\n",
       "        <tr>\n",
       "            <td>S700_1938</td>\n",
       "            <td>The Mayflower</td>\n",
       "            <td>69531.61</td>\n",
       "            <td>1.0</td>\n",
       "        </tr>\n",
       "        <tr>\n",
       "            <td>S32_3522</td>\n",
       "            <td>1996 Peterbilt 379 Stake Bed with Outrigger</td>\n",
       "            <td>57282.49</td>\n",
       "            <td>1.0</td>\n",
       "        </tr>\n",
       "    </tbody>\n",
       "</table>"
      ],
      "text/plain": [
       "[('S24_2000', '1960 BSA Gold Star DBD34', 67193.49, 67.0),\n",
       " ('S12_1099', '1968 Ford Mustang', 161531.48, 13.0),\n",
       " ('S32_4289', '1928 Ford Phaeton Deluxe', 60493.33, 7.0),\n",
       " ('S32_1374', '1997 BMW F650 ST', 89364.89, 5.0),\n",
       " ('S72_3212', 'Pont Yacht', 47550.4, 2.0),\n",
       " ('S18_2795', '1928 Mercedes-Benz SSK', 132275.98, 1.0),\n",
       " ('S700_3167', 'F/A 18 Hornet 1/72', 76618.4, 1.0),\n",
       " ('S50_4713', '2002 Yamaha YZR M1', 73670.64, 1.0),\n",
       " ('S700_1938', 'The Mayflower', 69531.61, 1.0),\n",
       " ('S32_3522', '1996 Peterbilt 379 Stake Bed with Outrigger', 57282.49, 1.0)]"
      ]
     },
     "execution_count": 10,
     "metadata": {},
     "output_type": "execute_result"
    }
   ],
   "source": [
    "%%sql\n",
    "With low_stock_table AS\n",
    "(SELECT p.productCode,p.productName,ROUND(SUM(o.quantityOrdered)/p.quantityInStock,2) AS lowstock\n",
    "FROM products as p\n",
    "JOIN orderdetails as o\n",
    "ON p.productCode = o.productCode\n",
    "GROUP BY  p.productCode\n",
    "ORDER BY lowstock DESC \n",
    "LIMIT 10 )\n",
    "\n",
    "SELECT p.productCode,p.productName,ROUND(SUM(o.quantityOrdered*o.priceEach),2) AS total_revenue, ls.lowstock\n",
    "FROM products as p\n",
    "JOIN orderdetails as o\n",
    "ON p.productCode = o.productCode\n",
    "JOIN low_stock_table AS ls\n",
    "ON ls.productCode = p.productCode\n",
    "GROUP BY p.productCode\n",
    "ORDER BY ls.lowstock DESC,total_revenue DESC\n",
    "LIMIT 10\n"
   ]
  },
  {
   "cell_type": "markdown",
   "id": "38e21624",
   "metadata": {},
   "source": [
    "## Insight\n",
    "\n",
    "-S24_2000 AND S24_2000 are the two top products that face low in stock issues, and particularly S12_1099, it shall act on reordering soon becaues of its high total revenue across the top 10 low stock products"
   ]
  },
  {
   "cell_type": "markdown",
   "id": "ceaa083d",
   "metadata": {},
   "source": [
    "## Question 2: How Should We Match Marketing and Communication Strategies to Customer Behavior? \n",
    "The question down to looking for VIP and the profit generatted."
   ]
  },
  {
   "cell_type": "markdown",
   "id": "7c5cb981",
   "metadata": {},
   "source": [
    "Top 30 VIP"
   ]
  },
  {
   "cell_type": "code",
   "execution_count": 13,
   "id": "4a815f50",
   "metadata": {},
   "outputs": [
    {
     "name": "stdout",
     "output_type": "stream",
     "text": [
      " * sqlite:///stores.db\n",
      "Done.\n"
     ]
    },
    {
     "data": {
      "text/html": [
       "<table>\n",
       "    <thead>\n",
       "        <tr>\n",
       "            <th>customerNumber</th>\n",
       "            <th>profit</th>\n",
       "        </tr>\n",
       "    </thead>\n",
       "    <tbody>\n",
       "        <tr>\n",
       "            <td>141</td>\n",
       "            <td>326519.66</td>\n",
       "        </tr>\n",
       "        <tr>\n",
       "            <td>124</td>\n",
       "            <td>236769.39</td>\n",
       "        </tr>\n",
       "        <tr>\n",
       "            <td>151</td>\n",
       "            <td>72370.09</td>\n",
       "        </tr>\n",
       "        <tr>\n",
       "            <td>114</td>\n",
       "            <td>70311.07</td>\n",
       "        </tr>\n",
       "        <tr>\n",
       "            <td>119</td>\n",
       "            <td>60875.3</td>\n",
       "        </tr>\n",
       "        <tr>\n",
       "            <td>148</td>\n",
       "            <td>60477.38</td>\n",
       "        </tr>\n",
       "        <tr>\n",
       "            <td>187</td>\n",
       "            <td>60095.86</td>\n",
       "        </tr>\n",
       "        <tr>\n",
       "            <td>323</td>\n",
       "            <td>60013.99</td>\n",
       "        </tr>\n",
       "        <tr>\n",
       "            <td>131</td>\n",
       "            <td>58669.1</td>\n",
       "        </tr>\n",
       "        <tr>\n",
       "            <td>450</td>\n",
       "            <td>55931.37</td>\n",
       "        </tr>\n",
       "        <tr>\n",
       "            <td>321</td>\n",
       "            <td>55674.28</td>\n",
       "        </tr>\n",
       "        <tr>\n",
       "            <td>382</td>\n",
       "            <td>54724.68</td>\n",
       "        </tr>\n",
       "        <tr>\n",
       "            <td>276</td>\n",
       "            <td>54551.66</td>\n",
       "        </tr>\n",
       "        <tr>\n",
       "            <td>146</td>\n",
       "            <td>53211.19</td>\n",
       "        </tr>\n",
       "        <tr>\n",
       "            <td>353</td>\n",
       "            <td>52698.66</td>\n",
       "        </tr>\n",
       "        <tr>\n",
       "            <td>282</td>\n",
       "            <td>52331.45</td>\n",
       "        </tr>\n",
       "        <tr>\n",
       "            <td>278</td>\n",
       "            <td>52309.63</td>\n",
       "        </tr>\n",
       "        <tr>\n",
       "            <td>496</td>\n",
       "            <td>51771.5</td>\n",
       "        </tr>\n",
       "        <tr>\n",
       "            <td>145</td>\n",
       "            <td>50973.68</td>\n",
       "        </tr>\n",
       "        <tr>\n",
       "            <td>458</td>\n",
       "            <td>49192.39</td>\n",
       "        </tr>\n",
       "        <tr>\n",
       "            <td>386</td>\n",
       "            <td>48516.67</td>\n",
       "        </tr>\n",
       "        <tr>\n",
       "            <td>448</td>\n",
       "            <td>46777.54</td>\n",
       "        </tr>\n",
       "        <tr>\n",
       "            <td>363</td>\n",
       "            <td>45090.39</td>\n",
       "        </tr>\n",
       "        <tr>\n",
       "            <td>201</td>\n",
       "            <td>43523.64</td>\n",
       "        </tr>\n",
       "        <tr>\n",
       "            <td>398</td>\n",
       "            <td>43487.88</td>\n",
       "        </tr>\n",
       "        <tr>\n",
       "            <td>298</td>\n",
       "            <td>43393.75</td>\n",
       "        </tr>\n",
       "        <tr>\n",
       "            <td>161</td>\n",
       "            <td>41510.76</td>\n",
       "        </tr>\n",
       "        <tr>\n",
       "            <td>121</td>\n",
       "            <td>41391.52</td>\n",
       "        </tr>\n",
       "        <tr>\n",
       "            <td>175</td>\n",
       "            <td>41313.51</td>\n",
       "        </tr>\n",
       "        <tr>\n",
       "            <td>166</td>\n",
       "            <td>41305.17</td>\n",
       "        </tr>\n",
       "    </tbody>\n",
       "</table>"
      ],
      "text/plain": [
       "[(141, 326519.66),\n",
       " (124, 236769.39),\n",
       " (151, 72370.09),\n",
       " (114, 70311.07),\n",
       " (119, 60875.3),\n",
       " (148, 60477.38),\n",
       " (187, 60095.86),\n",
       " (323, 60013.99),\n",
       " (131, 58669.1),\n",
       " (450, 55931.37),\n",
       " (321, 55674.28),\n",
       " (382, 54724.68),\n",
       " (276, 54551.66),\n",
       " (146, 53211.19),\n",
       " (353, 52698.66),\n",
       " (282, 52331.45),\n",
       " (278, 52309.63),\n",
       " (496, 51771.5),\n",
       " (145, 50973.68),\n",
       " (458, 49192.39),\n",
       " (386, 48516.67),\n",
       " (448, 46777.54),\n",
       " (363, 45090.39),\n",
       " (201, 43523.64),\n",
       " (398, 43487.88),\n",
       " (298, 43393.75),\n",
       " (161, 41510.76),\n",
       " (121, 41391.52),\n",
       " (175, 41313.51),\n",
       " (166, 41305.17)]"
      ]
     },
     "execution_count": 13,
     "metadata": {},
     "output_type": "execute_result"
    }
   ],
   "source": [
    "%%sql\n",
    "SELECT o.customerNumber, ROUND(SUM(od.quantityOrdered* (od.priceEach - p.buyPrice)),2) AS profit\n",
    "FROM orders o\n",
    "JOIN orderdetails od ON o.orderNumber = od.orderNumber\n",
    "JOIN products p ON od.productCode = p.productCode\n",
    "GROUP BY customerNumber \n",
    "ORDER BY profit DESC\n",
    "LIMIT 30;\n"
   ]
  },
  {
   "cell_type": "markdown",
   "id": "76ebd600",
   "metadata": {},
   "source": [
    "Then find out about their actual contact information"
   ]
  },
  {
   "cell_type": "code",
   "execution_count": 14,
   "id": "bbf9c8b9",
   "metadata": {},
   "outputs": [
    {
     "name": "stdout",
     "output_type": "stream",
     "text": [
      " * sqlite:///stores.db\n",
      "Done.\n"
     ]
    },
    {
     "data": {
      "text/html": [
       "<table>\n",
       "    <thead>\n",
       "        <tr>\n",
       "            <th>customerNumber</th>\n",
       "            <th>customerName</th>\n",
       "            <th>contactFirstName</th>\n",
       "            <th>contactLastName</th>\n",
       "            <th>phone</th>\n",
       "            <th>country</th>\n",
       "            <th>profit</th>\n",
       "        </tr>\n",
       "    </thead>\n",
       "    <tbody>\n",
       "        <tr>\n",
       "            <td>141</td>\n",
       "            <td>Euro+ Shopping Channel</td>\n",
       "            <td>Diego </td>\n",
       "            <td>Freyre</td>\n",
       "            <td>(91) 555 94 44</td>\n",
       "            <td>Spain</td>\n",
       "            <td>326519.66</td>\n",
       "        </tr>\n",
       "        <tr>\n",
       "            <td>124</td>\n",
       "            <td>Mini Gifts Distributors Ltd.</td>\n",
       "            <td>Susan</td>\n",
       "            <td>Nelson</td>\n",
       "            <td>4155551450</td>\n",
       "            <td>USA</td>\n",
       "            <td>236769.39</td>\n",
       "        </tr>\n",
       "        <tr>\n",
       "            <td>151</td>\n",
       "            <td>Muscle Machine Inc</td>\n",
       "            <td>Jeff</td>\n",
       "            <td>Young</td>\n",
       "            <td>2125557413</td>\n",
       "            <td>USA</td>\n",
       "            <td>72370.09</td>\n",
       "        </tr>\n",
       "        <tr>\n",
       "            <td>114</td>\n",
       "            <td>Australian Collectors, Co.</td>\n",
       "            <td>Peter</td>\n",
       "            <td>Ferguson</td>\n",
       "            <td>03 9520 4555</td>\n",
       "            <td>Australia</td>\n",
       "            <td>70311.07</td>\n",
       "        </tr>\n",
       "        <tr>\n",
       "            <td>119</td>\n",
       "            <td>La Rochelle Gifts</td>\n",
       "            <td>Janine </td>\n",
       "            <td>Labrune</td>\n",
       "            <td>40.67.8555</td>\n",
       "            <td>France</td>\n",
       "            <td>60875.3</td>\n",
       "        </tr>\n",
       "        <tr>\n",
       "            <td>148</td>\n",
       "            <td>Dragon Souveniers, Ltd.</td>\n",
       "            <td>Eric</td>\n",
       "            <td>Natividad</td>\n",
       "            <td>+65 221 7555</td>\n",
       "            <td>Singapore</td>\n",
       "            <td>60477.38</td>\n",
       "        </tr>\n",
       "        <tr>\n",
       "            <td>187</td>\n",
       "            <td>AV Stores, Co.</td>\n",
       "            <td>Rachel</td>\n",
       "            <td>Ashworth</td>\n",
       "            <td>(171) 555-1555</td>\n",
       "            <td>UK</td>\n",
       "            <td>60095.86</td>\n",
       "        </tr>\n",
       "        <tr>\n",
       "            <td>323</td>\n",
       "            <td>Down Under Souveniers, Inc</td>\n",
       "            <td>Mike</td>\n",
       "            <td>Graham</td>\n",
       "            <td>+64 9 312 5555</td>\n",
       "            <td>New Zealand</td>\n",
       "            <td>60013.99</td>\n",
       "        </tr>\n",
       "        <tr>\n",
       "            <td>131</td>\n",
       "            <td>Land of Toys Inc.</td>\n",
       "            <td>Kwai</td>\n",
       "            <td>Lee</td>\n",
       "            <td>2125557818</td>\n",
       "            <td>USA</td>\n",
       "            <td>58669.1</td>\n",
       "        </tr>\n",
       "        <tr>\n",
       "            <td>450</td>\n",
       "            <td>The Sharp Gifts Warehouse</td>\n",
       "            <td>Sue</td>\n",
       "            <td>Frick</td>\n",
       "            <td>4085553659</td>\n",
       "            <td>USA</td>\n",
       "            <td>55931.37</td>\n",
       "        </tr>\n",
       "    </tbody>\n",
       "</table>"
      ],
      "text/plain": [
       "[(141, 'Euro+ Shopping Channel', 'Diego ', 'Freyre', '(91) 555 94 44', 'Spain', 326519.66),\n",
       " (124, 'Mini Gifts Distributors Ltd.', 'Susan', 'Nelson', '4155551450', 'USA', 236769.39),\n",
       " (151, 'Muscle Machine Inc', 'Jeff', 'Young', '2125557413', 'USA', 72370.09),\n",
       " (114, 'Australian Collectors, Co.', 'Peter', 'Ferguson', '03 9520 4555', 'Australia', 70311.07),\n",
       " (119, 'La Rochelle Gifts', 'Janine ', 'Labrune', '40.67.8555', 'France', 60875.3),\n",
       " (148, 'Dragon Souveniers, Ltd.', 'Eric', 'Natividad', '+65 221 7555', 'Singapore', 60477.38),\n",
       " (187, 'AV Stores, Co.', 'Rachel', 'Ashworth', '(171) 555-1555', 'UK', 60095.86),\n",
       " (323, 'Down Under Souveniers, Inc', 'Mike', 'Graham', '+64 9 312 5555', 'New Zealand', 60013.99),\n",
       " (131, 'Land of Toys Inc.', 'Kwai', 'Lee', '2125557818', 'USA', 58669.1),\n",
       " (450, 'The Sharp Gifts Warehouse', 'Sue', 'Frick', '4085553659', 'USA', 55931.37)]"
      ]
     },
     "execution_count": 14,
     "metadata": {},
     "output_type": "execute_result"
    }
   ],
   "source": [
    "%%sql\n",
    "WITH top_30_VIP AS (\n",
    "SELECT o.customerNumber, ROUND(SUM(od.quantityOrdered* (od.priceEach - p.buyPrice)),2) AS profit\n",
    "FROM orders o\n",
    "JOIN orderdetails od ON o.orderNumber = od.orderNumber\n",
    "JOIN products p ON od.productCode = p.productCode\n",
    "GROUP BY customerNumber \n",
    "ORDER BY profit DESC\n",
    "LIMIT 30)\n",
    "SELECT  c.customerNumber,c.customerName,c.contactFirstName,c.contactLastName,c.phone,c.country,t3.profit\n",
    "FROM customers c \n",
    "JOIN top_30_vip t3\n",
    "ON c.customerNumber = t3.customerNumber\n",
    "ORDER BY t3.profit DESC\n",
    "LIMIT 10 ;"
   ]
  },
  {
   "cell_type": "markdown",
   "id": "fa9c6d9b",
   "metadata": {},
   "source": [
    "Insight\n",
    "-There are two major players from Spain and USA that contribute much more profit (total of 55k) than the rest of the 10 customers."
   ]
  },
  {
   "cell_type": "markdown",
   "id": "61d9ad6f",
   "metadata": {},
   "source": [
    "## Question 3: How Much Can We Spend on Acquiring New Customers?\n",
    "From the sample query, it seems there are decline in new customers and hence new acqusition strategies is needed"
   ]
  },
  {
   "cell_type": "code",
   "execution_count": 7,
   "id": "5a655cd7",
   "metadata": {},
   "outputs": [
    {
     "name": "stdout",
     "output_type": "stream",
     "text": [
      " * sqlite:///stores.db\n",
      "Done.\n"
     ]
    },
    {
     "data": {
      "text/html": [
       "<table>\n",
       "    <thead>\n",
       "        <tr>\n",
       "            <th>avg(cp.profit)</th>\n",
       "        </tr>\n",
       "    </thead>\n",
       "    <tbody>\n",
       "        <tr>\n",
       "            <td>39039.5943877551</td>\n",
       "        </tr>\n",
       "    </tbody>\n",
       "</table>"
      ],
      "text/plain": [
       "[(39039.5943877551,)]"
      ]
     },
     "execution_count": 7,
     "metadata": {},
     "output_type": "execute_result"
    }
   ],
   "source": [
    "%%sql\n",
    "\n",
    "With customer_profit AS (\n",
    "SELECT o.customerNumber,round(SUM((od.priceEach-p.buyPrice)*od.quantityOrdered),2) as profit\n",
    "FROM orderdetails od\n",
    "JOIN products p\n",
    "ON p.productCode = od.productCode\n",
    "JOIN orders o\n",
    "ON od.orderNumber = o.orderNumber\n",
    "GROUP BY o.customerNumber\n",
    "ORDER BY profit DESC )\n",
    "\n",
    "SELECT avg(cp.profit)\n",
    "FROM customer_profit cp\n",
    "\n",
    "\n"
   ]
  },
  {
   "cell_type": "markdown",
   "id": "d7a17a5a",
   "metadata": {},
   "source": [
    "Insight \n",
    "-Average profit from a new cusotmer is around 39039\n",
    "-The cost per lead , assuming 30% of profit is used to acquire new customer, it would be 39039 x 30% = 11711"
   ]
  }
 ],
 "metadata": {
  "kernelspec": {
   "display_name": "Python 3 (ipykernel)",
   "language": "python",
   "name": "python3"
  },
  "language_info": {
   "codemirror_mode": {
    "name": "ipython",
    "version": 3
   },
   "file_extension": ".py",
   "mimetype": "text/x-python",
   "name": "python",
   "nbconvert_exporter": "python",
   "pygments_lexer": "ipython3",
   "version": "3.10.9"
  }
 },
 "nbformat": 4,
 "nbformat_minor": 5
}
